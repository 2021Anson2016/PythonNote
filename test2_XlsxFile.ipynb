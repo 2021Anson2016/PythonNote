{
 "cells": [
  {
   "cell_type": "code",
   "execution_count": 1,
   "metadata": {},
   "outputs": [],
   "source": [
    "import pandas as pd\n",
    "import numpy as np\n",
    "import matplotlib.pyplot as plt\n",
    "\n",
    "Destop = 'C:\\\\Users\\\\AnsonHsu\\\\Desktop\\\\uLED\\\\'\n",
    "# fileName = 'TC8100.xlsx'\n",
    "fileName = 'shotmap_csv.csv'\n",
    "rawDataName = 'rawdata_csv.csv'\n",
    "\n",
    "# df = pd.read_excel( Destop + fileName)\n",
    "df_shotmap = pd.read_csv( Destop + fileName)\n",
    "df_raw = pd.read_csv(Destop + rawDataName) # df = pd.read_excel( Destop + fileName) # print(df_raw)\n",
    "\n",
    "# df_raw"
   ]
  },
  {
   "cell_type": "code",
   "execution_count": 2,
   "metadata": {},
   "outputs": [],
   "source": [
    "selectGroupName = 'SelectGroup_Anson.csv'\n",
    "df_SelGroup = pd.read_csv(Destop + selectGroupName)\n",
    "# df_SelGroup"
   ]
  },
  {
   "cell_type": "code",
   "execution_count": 3,
   "metadata": {
    "scrolled": true
   },
   "outputs": [
    {
     "data": {
      "text/html": [
       "<div>\n",
       "<style scoped>\n",
       "    .dataframe tbody tr th:only-of-type {\n",
       "        vertical-align: middle;\n",
       "    }\n",
       "\n",
       "    .dataframe tbody tr th {\n",
       "        vertical-align: top;\n",
       "    }\n",
       "\n",
       "    .dataframe thead th {\n",
       "        text-align: right;\n",
       "    }\n",
       "</style>\n",
       "<table border=\"1\" class=\"dataframe\">\n",
       "  <thead>\n",
       "    <tr style=\"text-align: right;\">\n",
       "      <th></th>\n",
       "      <th>waferid</th>\n",
       "      <th>x</th>\n",
       "      <th>y</th>\n",
       "      <th>wp</th>\n",
       "      <th>wd</th>\n",
       "    </tr>\n",
       "  </thead>\n",
       "  <tbody>\n",
       "    <tr>\n",
       "      <th>0</th>\n",
       "      <td>TC8100037</td>\n",
       "      <td>-46</td>\n",
       "      <td>-10</td>\n",
       "      <td>460.8112</td>\n",
       "      <td>463.5457</td>\n",
       "    </tr>\n",
       "    <tr>\n",
       "      <th>1</th>\n",
       "      <td>TC8100037</td>\n",
       "      <td>-46</td>\n",
       "      <td>-8</td>\n",
       "      <td>459.9736</td>\n",
       "      <td>462.8794</td>\n",
       "    </tr>\n",
       "    <tr>\n",
       "      <th>2</th>\n",
       "      <td>TC8100037</td>\n",
       "      <td>-46</td>\n",
       "      <td>-6</td>\n",
       "      <td>458.0611</td>\n",
       "      <td>461.6902</td>\n",
       "    </tr>\n",
       "    <tr>\n",
       "      <th>3</th>\n",
       "      <td>TC8100037</td>\n",
       "      <td>-46</td>\n",
       "      <td>-4</td>\n",
       "      <td>455.6899</td>\n",
       "      <td>459.9586</td>\n",
       "    </tr>\n",
       "    <tr>\n",
       "      <th>4</th>\n",
       "      <td>TC8100037</td>\n",
       "      <td>-46</td>\n",
       "      <td>-2</td>\n",
       "      <td>454.5185</td>\n",
       "      <td>459.3794</td>\n",
       "    </tr>\n",
       "  </tbody>\n",
       "</table>\n",
       "</div>"
      ],
      "text/plain": [
       "     waferid   x   y        wp        wd\n",
       "0  TC8100037 -46 -10  460.8112  463.5457\n",
       "1  TC8100037 -46  -8  459.9736  462.8794\n",
       "2  TC8100037 -46  -6  458.0611  461.6902\n",
       "3  TC8100037 -46  -4  455.6899  459.9586\n",
       "4  TC8100037 -46  -2  454.5185  459.3794"
      ]
     },
     "execution_count": 3,
     "metadata": {},
     "output_type": "execute_result"
    }
   ],
   "source": [
    "df_raw.head()"
   ]
  },
  {
   "cell_type": "code",
   "execution_count": 4,
   "metadata": {},
   "outputs": [
    {
     "data": {
      "text/plain": [
       "Index(['waferid', 'x', 'y', 'wp', 'wd'], dtype='object')"
      ]
     },
     "execution_count": 4,
     "metadata": {},
     "output_type": "execute_result"
    }
   ],
   "source": [
    "df_raw.columns"
   ]
  },
  {
   "cell_type": "code",
   "execution_count": 5,
   "metadata": {},
   "outputs": [],
   "source": [
    "waferid = 'TC8100037'\n",
    "t = df_raw['waferid'].values\n",
    "# t[0:100]"
   ]
  },
  {
   "cell_type": "code",
   "execution_count": 68,
   "metadata": {},
   "outputs": [
    {
     "name": "stdout",
     "output_type": "stream",
     "text": [
      "(96044,)\n",
      "(96044,)\n",
      "(96044,)\n"
     ]
    }
   ],
   "source": [
    "num = 1715\n",
    "# waferid = 'TC8100037'\n",
    "rawAllX = df_raw['x'].values\n",
    "rawAllY = df_raw['y'].values\n",
    "rawAllWP = df_raw['wp'].values\n",
    "\n",
    "print(rawAllX.shape)\n",
    "print(rawAllY.shape)\n",
    "print(rawAllWP.shape)\n",
    "\n",
    "# print(rawX[0:num])\n",
    "# print(rawY[0:num])\n",
    "# type(rawX) # numpy.ndarray\n",
    "# rawY\n",
    "pos1 = df_raw.loc[0:num,['x', 'y']] # 0:1715 位置座標\n",
    "x1 = df_raw.loc[0:num,['x']]\n",
    "y1 = df_raw.loc[0:num,['y']]\n",
    "wp1 = df_raw.loc[0:num,['wp']] # 0:1715 位置座標對應wp數值\n",
    "# wp1\n",
    "# x1\n",
    "# y1"
   ]
  },
  {
   "cell_type": "code",
   "execution_count": 70,
   "metadata": {},
   "outputs": [
    {
     "name": "stdout",
     "output_type": "stream",
     "text": [
      "(1716, 1)\n"
     ]
    }
   ],
   "source": [
    "print(wp1.shape)"
   ]
  },
  {
   "cell_type": "code",
   "execution_count": 60,
   "metadata": {},
   "outputs": [
    {
     "data": {
      "text/plain": [
       "array([-46, -44, -42, -40, -38, -36, -34, -32, -30, -28, -26, -24, -22,\n",
       "       -20, -18, -16, -14, -12, -10,  -8,  -6,  -4,  -2,   0,   2,   4,\n",
       "         6,   8,  10,  12,  14,  16,  18,  20,  22,  24,  26,  28,  30,\n",
       "        32,  34,  36,  38,  40,  42,  44,  46], dtype=int64)"
      ]
     },
     "execution_count": 60,
     "metadata": {},
     "output_type": "execute_result"
    }
   ],
   "source": [
    "# x1.shape\n",
    "x1 = np.unique(x1[:])\n",
    "x1"
   ]
  },
  {
   "cell_type": "code",
   "execution_count": 61,
   "metadata": {},
   "outputs": [
    {
     "data": {
      "text/plain": [
       "array([-46, -44, -42, -40, -38, -36, -34, -32, -30, -28, -26, -24, -22,\n",
       "       -20, -18, -16, -14, -12, -10,  -8,  -6,  -4,  -2,   0,   2,   4,\n",
       "         6,   8,  10,  12,  14,  16,  18,  20,  22,  24,  26,  28,  30,\n",
       "        32,  34,  36,  38,  40,  42,  44,  46], dtype=int64)"
      ]
     },
     "execution_count": 61,
     "metadata": {},
     "output_type": "execute_result"
    }
   ],
   "source": [
    "# y1.shape\n",
    "y1 = np.unique(y1[:])\n",
    "y1"
   ]
  },
  {
   "cell_type": "code",
   "execution_count": 54,
   "metadata": {},
   "outputs": [
    {
     "data": {
      "text/plain": [
       "(1716, 1716)"
      ]
     },
     "execution_count": 54,
     "metadata": {},
     "output_type": "execute_result"
    }
   ],
   "source": [
    "X.shape"
   ]
  },
  {
   "cell_type": "code",
   "execution_count": 55,
   "metadata": {},
   "outputs": [
    {
     "data": {
      "text/plain": [
       "array([-46, -44, -42, -40, -38, -36, -34, -32, -30, -28, -26, -24, -22,\n",
       "       -20, -18, -16, -14, -12, -10,  -8,  -6,  -4,  -2,   0,   2,   4,\n",
       "         6,   8,  10,  12,  14,  16,  18,  20,  22,  24,  26,  28,  30,\n",
       "        32,  34,  36,  38,  40,  42,  44,  46], dtype=int64)"
      ]
     },
     "execution_count": 55,
     "metadata": {},
     "output_type": "execute_result"
    }
   ],
   "source": [
    "np.unique(X[0,:])  # 取unique\n",
    "# len(np.unique(X[0,:]))"
   ]
  },
  {
   "cell_type": "code",
   "execution_count": 73,
   "metadata": {
    "scrolled": true
   },
   "outputs": [
    {
     "name": "stdout",
     "output_type": "stream",
     "text": [
      "(1716, 2)\n"
     ]
    }
   ],
   "source": [
    "pos1.values\n",
    "print(pos1.shape)"
   ]
  },
  {
   "cell_type": "code",
   "execution_count": 64,
   "metadata": {},
   "outputs": [
    {
     "data": {
      "text/plain": [
       "2209"
      ]
     },
     "execution_count": 64,
     "metadata": {},
     "output_type": "execute_result"
    }
   ],
   "source": [
    "47*47"
   ]
  },
  {
   "cell_type": "code",
   "execution_count": null,
   "metadata": {},
   "outputs": [],
   "source": []
  },
  {
   "cell_type": "code",
   "execution_count": 67,
   "metadata": {},
   "outputs": [
    {
     "name": "stdout",
     "output_type": "stream",
     "text": [
      "(47, 47)\n",
      "(47, 47)\n",
      "(1716, 1716)\n"
     ]
    }
   ],
   "source": [
    "type(pos1)\n",
    "pos1[:1]\n",
    "X, Y = np.meshgrid(x1,y1)\n",
    "print(X.shape)\n",
    "print(Y.shape)\n",
    "Z = np.meshgrid(wp1, wp1)\n",
    "Z\n",
    "# Z0 = Z[0]\n",
    "print(Z0.shape)"
   ]
  },
  {
   "cell_type": "code",
   "execution_count": 72,
   "metadata": {},
   "outputs": [
    {
     "data": {
      "text/plain": [
       "array([[460.8112, 459.9736, 458.0611, ..., 458.6921, 460.7821, 461.1913],\n",
       "       [460.8112, 459.9736, 458.0611, ..., 458.6921, 460.7821, 461.1913],\n",
       "       [460.8112, 459.9736, 458.0611, ..., 458.6921, 460.7821, 461.1913],\n",
       "       ...,\n",
       "       [460.8112, 459.9736, 458.0611, ..., 458.6921, 460.7821, 461.1913],\n",
       "       [460.8112, 459.9736, 458.0611, ..., 458.6921, 460.7821, 461.1913],\n",
       "       [460.8112, 459.9736, 458.0611, ..., 458.6921, 460.7821, 461.1913]])"
      ]
     },
     "execution_count": 72,
     "metadata": {},
     "output_type": "execute_result"
    }
   ],
   "source": [
    "Z0 = Z[0]\n",
    "Z0"
   ]
  },
  {
   "cell_type": "code",
   "execution_count": 44,
   "metadata": {},
   "outputs": [
    {
     "data": {
      "text/plain": [
       "array([-46, -46, -46, ...,  46,  46,  46], dtype=int64)"
      ]
     },
     "execution_count": 44,
     "metadata": {},
     "output_type": "execute_result"
    }
   ],
   "source": [
    "X[0,:]"
   ]
  },
  {
   "cell_type": "code",
   "execution_count": 42,
   "metadata": {},
   "outputs": [
    {
     "data": {
      "text/plain": [
       "<matplotlib.contour.QuadContourSet at 0x24cd17ca518>"
      ]
     },
     "execution_count": 42,
     "metadata": {},
     "output_type": "execute_result"
    },
    {
     "data": {
      "image/png": "[encoded data removed]",
      "text/plain": [
       "<matplotlib.figure.Figure at 0x24cd16b5f28>"
      ]
     },
     "metadata": {},
     "output_type": "display_data"
    }
   ],
   "source": [
    "plt.contour(X,Y,Z0)"
   ]
  },
  {
   "cell_type": "code",
   "execution_count": 12,
   "metadata": {},
   "outputs": [
    {
     "name": "stderr",
     "output_type": "stream",
     "text": [
      "D:\\InstallFile\\lib\\site-packages\\matplotlib\\contour.py:1180: UserWarning: No contour levels were found within the data range.\n",
      "  warnings.warn(\"No contour levels were found\"\n"
     ]
    },
    {
     "data": {
      "text/plain": [
       "<matplotlib.contour.QuadContourSet at 0x24cd0d5c2e8>"
      ]
     },
     "execution_count": 12,
     "metadata": {},
     "output_type": "execute_result"
    },
    {
     "data": {
      "image/png": "[encoded data removed]",
      "text/plain": [
       "<matplotlib.figure.Figure at 0x24cd0b539b0>"
      ]
     },
     "metadata": {},
     "output_type": "display_data"
    }
   ],
   "source": [
    "plt.contour(pos1.values,wp1)"
   ]
  },
  {
   "cell_type": "code",
   "execution_count": 13,
   "metadata": {},
   "outputs": [
    {
     "name": "stdout",
     "output_type": "stream",
     "text": [
      "(96044,)\n"
     ]
    },
    {
     "data": {
      "text/plain": [
       "array([460.8112, 459.9736, 458.0611, ..., 452.3371, 445.5188, 451.3559])"
      ]
     },
     "execution_count": 13,
     "metadata": {},
     "output_type": "execute_result"
    }
   ],
   "source": [
    "# rawWP = np.concatenate((rrawX, rrawY), axis=0)\n",
    "# rawWP = np.vstack((rawX, rawY,rawWP ))  # np.vstack 垂直堆疊； np.hstack 水平堆疊\n",
    "\n",
    "print(rawAllWP.shape)\n",
    "rawAllWP"
   ]
  },
  {
   "cell_type": "code",
   "execution_count": 14,
   "metadata": {},
   "outputs": [],
   "source": [
    "# help(plt.contour)"
   ]
  },
  {
   "cell_type": "code",
   "execution_count": 15,
   "metadata": {},
   "outputs": [
    {
     "name": "stdout",
     "output_type": "stream",
     "text": [
      "1715\n"
     ]
    },
    {
     "ename": "NameError",
     "evalue": "name 'rawX' is not defined",
     "output_type": "error",
     "traceback": [
      "\u001b[1;31m---------------------------------------------------------------------------\u001b[0m",
      "\u001b[1;31mNameError\u001b[0m                                 Traceback (most recent call last)",
      "\u001b[1;32m<ipython-input-15-29d935342eec>\u001b[0m in \u001b[0;36m<module>\u001b[1;34m()\u001b[0m\n\u001b[0;32m      1\u001b[0m \u001b[1;31m# print(rawWP.shape)  # rawWP.shape = (96044, 3)\u001b[0m\u001b[1;33m\u001b[0m\u001b[1;33m\u001b[0m\u001b[0m\n\u001b[0;32m      2\u001b[0m \u001b[0mprint\u001b[0m\u001b[1;33m(\u001b[0m\u001b[0mnum\u001b[0m\u001b[1;33m)\u001b[0m\u001b[1;33m\u001b[0m\u001b[0m\n\u001b[1;32m----> 3\u001b[1;33m \u001b[0mX\u001b[0m\u001b[1;33m,\u001b[0m \u001b[0mY\u001b[0m \u001b[1;33m=\u001b[0m \u001b[0mnp\u001b[0m\u001b[1;33m.\u001b[0m\u001b[0mmeshgrid\u001b[0m\u001b[1;33m(\u001b[0m\u001b[0mrawX\u001b[0m\u001b[1;33m[\u001b[0m\u001b[1;36m0\u001b[0m\u001b[1;33m:\u001b[0m\u001b[0mnum\u001b[0m\u001b[1;33m]\u001b[0m\u001b[1;33m,\u001b[0m \u001b[0mrawY\u001b[0m\u001b[1;33m[\u001b[0m\u001b[1;36m0\u001b[0m\u001b[1;33m:\u001b[0m\u001b[0mnum\u001b[0m\u001b[1;33m]\u001b[0m\u001b[1;33m)\u001b[0m\u001b[1;33m\u001b[0m\u001b[0m\n\u001b[0m\u001b[0;32m      4\u001b[0m \u001b[0mZ\u001b[0m \u001b[1;33m=\u001b[0m \u001b[0mnp\u001b[0m\u001b[1;33m.\u001b[0m\u001b[0mmeshgrid\u001b[0m\u001b[1;33m(\u001b[0m\u001b[0mrawWP\u001b[0m\u001b[1;33m[\u001b[0m\u001b[1;36m0\u001b[0m\u001b[1;33m:\u001b[0m\u001b[0mnum\u001b[0m\u001b[1;33m]\u001b[0m\u001b[1;33m,\u001b[0m \u001b[0mrawWP\u001b[0m\u001b[1;33m[\u001b[0m\u001b[1;36m0\u001b[0m\u001b[1;33m:\u001b[0m\u001b[0mnum\u001b[0m\u001b[1;33m]\u001b[0m\u001b[1;33m)\u001b[0m\u001b[1;33m\u001b[0m\u001b[0m\n\u001b[0;32m      5\u001b[0m \u001b[1;33m\u001b[0m\u001b[0m\n",
      "\u001b[1;31mNameError\u001b[0m: name 'rawX' is not defined"
     ]
    }
   ],
   "source": [
    "# print(rawWP.shape)  # rawWP.shape = (96044, 3)\n",
    "\n",
    "X, Y = np.meshgrid(rawX[0:num], rawY[0:num])\n",
    "Z = np.meshgrid(rawWP[0:num], rawWP[0:num])\n",
    "\n",
    "print('after X =',   X)\n",
    "print('after Y =',   Y)\n",
    "# print(rawWP[0:num])\n",
    "\n",
    "print(Z)\n",
    "# print(Z.shape)\n",
    "plt.figure()\n",
    "# plt.contour(X,Y,Z)"
   ]
  },
  {
   "cell_type": "code",
   "execution_count": null,
   "metadata": {},
   "outputs": [],
   "source": [
    "%matplotlib inline\n",
    "# plt.plot(rawX, rawY)\n",
    "plt.plot(rawX, rawY, rawWP)\n",
    "# plt.plot(rawX[0:30], rawY[0:30], 'ro')\n",
    "plt.ylabel('y label')\n",
    "plt.xlabel('x label')\n"
   ]
  },
  {
   "cell_type": "code",
   "execution_count": null,
   "metadata": {},
   "outputs": [],
   "source": [
    "# df_raw.plot.scatter(x=rawX, y=rawY, c='color')"
   ]
  },
  {
   "cell_type": "code",
   "execution_count": null,
   "metadata": {},
   "outputs": [],
   "source": [
    "print(rawX.shape,rawY.shape,rawWP.shape)"
   ]
  },
  {
   "cell_type": "code",
   "execution_count": null,
   "metadata": {},
   "outputs": [],
   "source": [
    "# type(rawWP.shape) # tuple\n",
    "# rrawWP = list(rawWP)\n",
    "# # type(rrawWP.shape)\n",
    "# rrawWP "
   ]
  },
  {
   "cell_type": "code",
   "execution_count": null,
   "metadata": {},
   "outputs": [],
   "source": [
    "# rrawX = np.array(rawX)\n",
    "# print(rrawX.T)\n",
    "rrawX = np.concatenate((rawX, rawY), axis=0 )\n",
    "print(rrawX)\n",
    "rrawX = np.vstack((rawX, rawY))\n",
    "print(rrawX)"
   ]
  },
  {
   "cell_type": "code",
   "execution_count": null,
   "metadata": {},
   "outputs": [],
   "source": [
    "rrawY = np.array(rawY)\n",
    "rrawY"
   ]
  },
  {
   "cell_type": "code",
   "execution_count": null,
   "metadata": {},
   "outputs": [],
   "source": [
    "rawWP = np.array(rawWP)\n",
    "rawWP"
   ]
  },
  {
   "cell_type": "code",
   "execution_count": null,
   "metadata": {},
   "outputs": [],
   "source": [
    "# plt.contour(rawX,rawY,rawWP)"
   ]
  },
  {
   "cell_type": "code",
   "execution_count": null,
   "metadata": {},
   "outputs": [],
   "source": [
    "# df['Shot'] # Shot 欄位的數值\n",
    "# type(df['Shot']) # pandas.core.series.Series"
   ]
  },
  {
   "cell_type": "code",
   "execution_count": null,
   "metadata": {},
   "outputs": [],
   "source": [
    "#print the column names\n",
    "print (df.columns)"
   ]
  },
  {
   "cell_type": "code",
   "execution_count": null,
   "metadata": {},
   "outputs": [],
   "source": [
    "#get the values for a given column\n",
    "values = df['Shot'].values\n",
    "# type(values) # numpy.ndarray\n",
    "values"
   ]
  },
  {
   "cell_type": "code",
   "execution_count": null,
   "metadata": {},
   "outputs": [],
   "source": [
    "d = {'col1': [1, 2], 'col2': [3, 4]}\n",
    "test_df = pd.DataFrame(data=d)\n",
    "test_df"
   ]
  },
  {
   "cell_type": "code",
   "execution_count": null,
   "metadata": {},
   "outputs": [],
   "source": [
    "test_df.dtypes"
   ]
  },
  {
   "cell_type": "code",
   "execution_count": null,
   "metadata": {},
   "outputs": [],
   "source": []
  },
  {
   "cell_type": "code",
   "execution_count": null,
   "metadata": {},
   "outputs": [],
   "source": []
  }
 ],
 "metadata": {
  "kernelspec": {
   "display_name": "Python 3",
   "language": "python",
   "name": "python3"
  },
  "language_info": {
   "codemirror_mode": {
    "name": "ipython",
    "version": 3
   },
   "file_extension": ".py",
   "mimetype": "text/x-python",
   "name": "python",
   "nbconvert_exporter": "python",
   "pygments_lexer": "ipython3",
   "version": "3.6.4"
  }
 },
 "nbformat": 4,
 "nbformat_minor": 2
}
